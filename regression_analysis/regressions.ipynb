{
 "cells": [
  {
   "cell_type": "markdown",
   "metadata": {},
   "source": [
    "# Regression Analysis\n",
    "\n",
    "This is a notebook to test out how different regression models compare on fitting various simple two-dimensional datasets. This comparison demonstrates how well these models fit the training data and shows how well (or poorly) the models can extrapolate their learned knowledge to test points outside the range of their training points.\n",
    "\n",
    "Running options include printing a compact list of mean squared errors of each model and plotting each model on each dataset. The printing option shows the mean squared error of a test set completely within the bounds of the training set, one that extends 10% outside in each direction (positive and negative), one that extends 50% outside in each direction, and finally one that extends 100% beyond the original training set in each direction. The plotting method only plots test points within 100% of the bounds of the training set."
   ]
  },
  {
   "cell_type": "code",
   "execution_count": 1,
   "metadata": {
    "collapsed": true
   },
   "outputs": [],
   "source": [
    "import math\n",
    "import numpy as np\n",
    "import random\n",
    "from sklearn.ensemble import GradientBoostingRegressor\n",
    "from sklearn.ensemble import RandomForestRegressor\n",
    "from sklearn.ensemble import ExtraTreesRegressor\n",
    "from sklearn.ensemble import AdaBoostRegressor\n",
    "from sklearn.neighbors import KNeighborsRegressor\n",
    "from sklearn.svm import SVR\n",
    "from sklearn.neural_network import MLPRegressor\n",
    "from sklearn.metrics import mean_squared_error as mse\n",
    "import matplotlib.pyplot as plt"
   ]
  },
  {
   "cell_type": "markdown",
   "metadata": {},
   "source": [
    "# User Definitions\n",
    "\n",
    "A few high-level options to use this notebook"
   ]
  },
  {
   "cell_type": "code",
   "execution_count": 2,
   "metadata": {
    "collapsed": true
   },
   "outputs": [],
   "source": [
    "n_train_pts = 1000\n",
    "n_test_pts = 100 # number of test points to gather from each test region\n",
    "\n",
    "# a range of x values to use across all functions for training\n",
    "### ranges should be chosen such that they are centered about 0\n",
    "x_min = -10\n",
    "x_max = 10\n",
    "\n",
    "# how many iterations we're going to go through this process\n",
    "# to average the results over the number of iterations\n",
    "num_its = 2 \n",
    "\n",
    "### make sure to fill this list out with the names of each of the functions you want to use\n",
    "# these functions are completed below\n",
    "dataset_list = ['linear', 'quadratic', 'absolute', 'sinusoid', 'exponential']"
   ]
  },
  {
   "cell_type": "markdown",
   "metadata": {},
   "source": [
    "# Dataset Selection\n",
    "\n",
    "We'll create a different function for each one of these. For each function, input an array of x values. It'll return the y array for that dataset. They'll all have the same x array. This will be put into a dictionary by a separate function"
   ]
  },
  {
   "cell_type": "code",
   "execution_count": 3,
   "metadata": {
    "collapsed": true
   },
   "outputs": [],
   "source": [
    "def linear(x):\n",
    "    return x\n",
    "\n",
    "def quadratic(x):\n",
    "    return x**2\n",
    "\n",
    "def absolute(x):\n",
    "    return np.absolute(x)\n",
    "\n",
    "def sinusoid(x):\n",
    "    return np.sin(x)\n",
    "\n",
    "def exponential(x):\n",
    "    return np.exp(x)"
   ]
  },
  {
   "cell_type": "code",
   "execution_count": 4,
   "metadata": {
    "collapsed": true
   },
   "outputs": [],
   "source": [
    "### model selection\n",
    "\n",
    "# create a dictionary to store all the models in\n",
    "model_dict = {}\n",
    "\n",
    "# list of models, with parameters\n",
    "model_dict['XGB'] = GradientBoostingRegressor()\n",
    "#model_dict['SupportVector'] = SVR()\n",
    "model_dict['SupportVector_2'] = SVR(kernel='linear', C=100, epsilon=.001)\n",
    "#model_dict['RandomForest'] = RandomForestRegressor()\n",
    "#model_dict['ExtraTrees'] = ExtraTreesRegressor()\n",
    "model_dict['AdaBoost'] = AdaBoostRegressor()\n",
    "#model_dict['KNN'] = KNeighborsRegressor()\n",
    "model_dict['NN'] = MLPRegressor()\n",
    "\n",
    "### end model selection"
   ]
  },
  {
   "cell_type": "code",
   "execution_count": 5,
   "metadata": {
    "collapsed": true
   },
   "outputs": [],
   "source": [
    "# function to create the dataset dictionary\n",
    "def trainset_creation():\n",
    "\n",
    "    # create a numpy x array\n",
    "    x = np.array([])\n",
    "    for _ in range(n_train_pts):\n",
    "        x = np.append(x, random.random()*(x_max - x_min) + x_min)\n",
    "\n",
    "    # now create the dictionary to store the datasets\n",
    "    trainset_dict = {}\n",
    "\n",
    "    for dataset_name in dataset_list:\n",
    "\n",
    "        exec('trainset_dict[dataset_name] = [x, {}(x)]'.format(dataset_name))\n",
    "\n",
    "        #print(trainset_dict[dataset_name][0].shape, trainset_dict[dataset_name][1].shape)\n",
    "\n",
    "    return trainset_dict"
   ]
  },
  {
   "cell_type": "code",
   "execution_count": 6,
   "metadata": {
    "collapsed": true
   },
   "outputs": [],
   "source": [
    "def testset_creation():\n",
    "\n",
    "    # need to create the x ranges for all the types we need\n",
    "    # maybe we'll split the number of points between the positive and negative sides\n",
    "    # get equal numbers on each side\n",
    "\n",
    "    # first, let's create the in_bounds x set\n",
    "    x_in_bounds = np.array([])\n",
    "    for _ in range(n_test_pts):\n",
    "        x_in_bounds = np.append(x_in_bounds, random.random()*(x_max - x_min) + x_min)\n",
    "\n",
    "    # now one for the 10% out of bounds\n",
    "    # we'll need 2 sets of bounds. \n",
    "    # x_min_10 is 10% lower than x_min. x_min will be the upper bound of the lower range\n",
    "    # x_max_10 is 10% higher than x_max. x_max will be the lower bound of the upper range\n",
    "    x_min_10 = x_min - abs(x_min*0.1)\n",
    "    x_max_10 = x_max + abs(x_max*0.1)\n",
    "\n",
    "    # create the set for that\n",
    "    x_10 = np.array([])\n",
    "\n",
    "    # need to split this process in two\n",
    "    for _ in range(int(n_test_pts/2)):\n",
    "        x_10 = np.append(x_10, random.random()*(x_min - x_min_10) + x_min_10)\n",
    "    for _ in range(int(n_test_pts/2)):\n",
    "        x_10 = np.append(x_10, random.random()*(x_max_10 - x_max) + x_max)\n",
    "\n",
    "    # cool, now repeat the process for 50%\n",
    "    x_min_50 = x_min - abs(x_min*0.5)\n",
    "    x_max_50 = x_max + abs(x_max*0.5)\n",
    "    x_50 = np.array([])\n",
    "    for _ in range(int(n_test_pts/2)):\n",
    "        x_50 = np.append(x_50, random.random()*(x_min - x_min_50) + x_min_50)\n",
    "    for _ in range(int(n_test_pts/2)):\n",
    "        x_50 = np.append(x_50, random.random()*(x_max_50 - x_max) + x_max)\n",
    "\n",
    "    # and 100\n",
    "    x_min_100 = 2*x_min\n",
    "    x_max_100 = 2*x_max \n",
    "    x_100 = np.array([])\n",
    "    for _ in range(int(n_test_pts/2)):\n",
    "        x_100 = np.append(x_100, random.random()*(x_min - x_min_100) + x_min_100)\n",
    "    for _ in range(int(n_test_pts/2)):\n",
    "        x_100 = np.append(x_100, random.random()*(x_max_10 - x_max) + x_max)\n",
    "\n",
    "    # cool, now that we have all the x sets for testing, we need to create the y sets and dictionize\n",
    "    testset_dict = {}\n",
    "\n",
    "    for dataset_name in dataset_list:\n",
    "\n",
    "        # no easy loop for this, sorry\n",
    "        #dict_in_bounds = {}\n",
    "        dataset_temp_dict = {}\n",
    "        exec('dataset_temp_dict[\\'in_bounds\\'] = [x_in_bounds, {}(x_in_bounds)]'.format(dataset_name))\n",
    "\n",
    "        #dict_10 = {}\n",
    "        exec('dataset_temp_dict[\\'10_percent_out\\'] = [x_10, {}(x_10)]'.format(dataset_name))\n",
    "\n",
    "        #dict_50 = {}\n",
    "        exec('dataset_temp_dict[\\'50_percent_out\\'] = [x_50, {}(x_50)]'.format(dataset_name))\n",
    "\n",
    "        #dict_100 = {}\n",
    "        exec('dataset_temp_dict[\\'100_percent_out\\'] = [x_100, {}(x_100)]'.format(dataset_name))\n",
    "\n",
    "        testset_dict[dataset_name] = dataset_temp_dict\n",
    "\n",
    "    return testset_dict"
   ]
  },
  {
   "cell_type": "code",
   "execution_count": 7,
   "metadata": {
    "collapsed": true
   },
   "outputs": [],
   "source": [
    "def train_test_models(trainset_dict, testset_dict):\n",
    "\n",
    "    # create a dictionary for the results\n",
    "    result_dict = {}\n",
    "\n",
    "    # so we need to loop through all the models\n",
    "    for model_name in model_dict.keys():\n",
    "\n",
    "        print(' Training model {}'.format(model_name))\n",
    "\n",
    "        # pull out the model\n",
    "        model = model_dict[model_name]\n",
    "\n",
    "        # create a dictionary for the model\n",
    "        model_result_dict = {}\n",
    "\n",
    "        # then loop through each of the training sets\n",
    "        for dataset_name in trainset_dict.keys():\n",
    "\n",
    "            # helpful print\n",
    "            #print('Training {} on {} dataset'.format(model_name, dataset_name))\n",
    "\n",
    "            # then you get to train on this dataset!\n",
    "            \n",
    "            x_train, y_train = trainset_dict[dataset_name]\n",
    "\n",
    "            # train the model\n",
    "            model = model.fit(x_train.reshape(-1,1), y_train)\n",
    "\n",
    "            # create a dictionary for the results\n",
    "            dataset_result_dict = {}\n",
    "\n",
    "            # then evaluate on the four sets\n",
    "            x_test, y_test = testset_dict[dataset_name]['in_bounds']\n",
    "            dataset_result_dict['in_bounds'] = mse(y_test, model.predict(x_test.reshape(-1,1)))\n",
    "\n",
    "            x_test, y_test = testset_dict[dataset_name]['10_percent_out']\n",
    "            dataset_result_dict['10_percent_out'] = mse(y_test, model.predict(x_test.reshape(-1,1)))\n",
    "\n",
    "            x_test, y_test = testset_dict[dataset_name]['50_percent_out']\n",
    "            dataset_result_dict['50_percent_out'] = mse(y_test, model.predict(x_test.reshape(-1,1)))\n",
    "\n",
    "            x_test, y_test = testset_dict[dataset_name]['100_percent_out']\n",
    "            dataset_result_dict['100_percent_out'] = mse(y_test, model.predict(x_test.reshape(-1,1)))\n",
    "\n",
    "            # then add this dictionary to model_result_dict\n",
    "            model_result_dict[dataset_name] = dataset_result_dict\n",
    "\n",
    "        # add the model result dict to the overall result dict\n",
    "        result_dict[model_name] = model_result_dict\n",
    "\n",
    "    # then return the result_dict\n",
    "    return result_dict"
   ]
  },
  {
   "cell_type": "code",
   "execution_count": 8,
   "metadata": {
    "collapsed": true
   },
   "outputs": [],
   "source": [
    "# then we need a function to print out all this stuff\n",
    "def print_results(result_dict):\n",
    "\n",
    "    # loop through the model names\n",
    "    for model_name in result_dict.keys():\n",
    "\n",
    "        print('--- {} ---'.format(model_name))\n",
    "\n",
    "        model_result_dict = result_dict[model_name]\n",
    "\n",
    "        # loop through the dataset names\n",
    "        for dataset_name in model_result_dict.keys():\n",
    "\n",
    "            print(' {}:'.format(dataset_name))\n",
    "\n",
    "            # then pull out the dictionary for that\n",
    "            dataset_result_dict = model_result_dict[dataset_name]\n",
    "\n",
    "            print('    In-bounds: {}'.format(dataset_result_dict['in_bounds']))\n",
    "            print('    10 percent outside: {}'.format(dataset_result_dict['10_percent_out']))\n",
    "            print('    50 percent outside: {}'.format(dataset_result_dict['50_percent_out']))\n",
    "            print('    100 percent outside: {}'.format(dataset_result_dict['100_percent_out']))"
   ]
  },
  {
   "cell_type": "code",
   "execution_count": 9,
   "metadata": {
    "collapsed": true
   },
   "outputs": [],
   "source": [
    "def plot_model(model_name, dataset_name):\n",
    "\n",
    "    # so first we need to create the x dataset\n",
    "    \n",
    "    #####\n",
    "    # WE NEED TO CHANGE THIS TO A SPECIFIC NUMBER OF POINTS??\n",
    "    #####\n",
    "    x_train = np.arange(x_min, x_max, .001).reshape(-1,1)\n",
    "    x_test = np.arange(2*x_min, 2*x_max, .001).reshape(-1,1)\n",
    "\n",
    "    temp_array = []\n",
    "    exec('temp_array.append({}(x_train))'.format(dataset_name))\n",
    "    exec('temp_array.append({}(x_test))'.format(dataset_name))\n",
    "    y_train = temp_array[0]\n",
    "    y_test = temp_array[1]\n",
    "    \n",
    "\n",
    "    # now train the model and get the predictions\n",
    "    model = model_dict[model_name].fit(x_train, y_train)\n",
    "\n",
    "    # predict\n",
    "    y_pred = model.predict(x_test)\n",
    "\n",
    "    # so we want to plot x_test vs. y_test\n",
    "    # as well as x_test vs. y_pred\n",
    "    fig = plt.figure()\n",
    "    ax1 = fig.add_subplot(111)\n",
    "    ax1.scatter(x_test, y_test, s=10, c='b', marker=\"s\", label=dataset_name)\n",
    "    ax1.scatter(x_test, y_pred, s=10, c='r', marker=\"o\", label=model_name)\n",
    "\n",
    "    plt.legend(loc='upper left')\n",
    "    \n",
    "    # then finally calculate the error, round to 5 decimal places, place in title with the name\n",
    "    plt.title('{} | 100 percent outside on {}: {}'.format(model_name, dataset_name, round(mse(y_test, y_pred), 5)))\n",
    "    plt.show()\n",
    "    "
   ]
  },
  {
   "cell_type": "code",
   "execution_count": 10,
   "metadata": {
    "collapsed": true
   },
   "outputs": [],
   "source": [
    "def detailed_errors_with_multiple_its():\n",
    "\n",
    "    \n",
    "    result_dict = {}\n",
    "\n",
    "    for i in range(num_its):\n",
    "\n",
    "        print('Iteration {}'.format(i + 1))\n",
    "\n",
    "        trainset_dict = trainset_creation()\n",
    "        testset_dict = testset_creation()\n",
    "        temp_result_dict = train_test_models(trainset_dict, testset_dict)\n",
    "\n",
    "        if i == 0:\n",
    "\n",
    "            result_dict = temp_result_dict\n",
    "\n",
    "        else:\n",
    "\n",
    "            for model_name in result_dict.keys():\n",
    "                for dataset_name in result_dict[model_name].keys():\n",
    "                    for tier in result_dict[model_name][dataset_name].keys():\n",
    "                        result_dict[model_name][dataset_name][tier] += temp_result_dict[model_name][dataset_name][tier]\n",
    "\n",
    "    # then divide the results out\n",
    "    for model_name in result_dict.keys():\n",
    "        for dataset_name in result_dict[model_name].keys():\n",
    "            for tier in result_dict[model_name][dataset_name].keys():\n",
    "                result_dict[model_name][dataset_name][tier] /= num_its\n",
    "\n",
    "\n",
    "    print_results(result_dict)\n",
    "    \n",
    "    \n",
    "    \n"
   ]
  },
  {
   "cell_type": "code",
   "execution_count": null,
   "metadata": {
    "collapsed": true
   },
   "outputs": [],
   "source": [
    "def errors_and_plots_100_percent():\n",
    "    \n",
    "    for dataset_name in dataset_list:\n",
    "        for model_name in model_dict.keys():\n",
    "            plot_model(model_name, dataset_name)\n",
    "    "
   ]
  },
  {
   "cell_type": "code",
   "execution_count": null,
   "metadata": {},
   "outputs": [
    {
     "name": "stderr",
     "output_type": "stream",
     "text": [
      "/Users/michael/anaconda3/lib/python3.6/site-packages/sklearn/utils/validation.py:578: DataConversionWarning: A column-vector y was passed when a 1d array was expected. Please change the shape of y to (n_samples, ), for example using ravel().\n",
      "  y = column_or_1d(y, warn=True)\n"
     ]
    },
    {
     "data": {
      "image/png": "[encoded data removed]",
      "text/plain": [
       "<matplotlib.figure.Figure at 0x1159617b8>"
      ]
     },
     "metadata": {},
     "output_type": "display_data"
    },
    {
     "data": {
      "image/png": "[encoded data removed]",
      "text/plain": [
       "<matplotlib.figure.Figure at 0x115c60dd8>"
      ]
     },
     "metadata": {},
     "output_type": "display_data"
    },
    {
     "data": {
      "image/png": "[encoded data removed]",
      "text/plain": [
       "<matplotlib.figure.Figure at 0x115f3c550>"
      ]
     },
     "metadata": {},
     "output_type": "display_data"
    },
    {
     "name": "stderr",
     "output_type": "stream",
     "text": [
      "/Users/michael/anaconda3/lib/python3.6/site-packages/sklearn/neural_network/multilayer_perceptron.py:1306: DataConversionWarning: A column-vector y was passed when a 1d array was expected. Please change the shape of y to (n_samples, ), for example using ravel().\n",
      "  y = column_or_1d(y, warn=True)\n"
     ]
    },
    {
     "data": {
      "image/png": "[encoded data removed]",
      "text/plain": [
       "<matplotlib.figure.Figure at 0x1160e0e48>"
      ]
     },
     "metadata": {},
     "output_type": "display_data"
    },
    {
     "name": "stderr",
     "output_type": "stream",
     "text": [
      "/Users/michael/anaconda3/lib/python3.6/site-packages/sklearn/utils/validation.py:578: DataConversionWarning: A column-vector y was passed when a 1d array was expected. Please change the shape of y to (n_samples, ), for example using ravel().\n",
      "  y = column_or_1d(y, warn=True)\n"
     ]
    },
    {
     "data": {
      "image/png": "[encoded data removed]",
      "text/plain": [
       "<matplotlib.figure.Figure at 0x116133240>"
      ]
     },
     "metadata": {},
     "output_type": "display_data"
    },
    {
     "ename": "KeyboardInterrupt",
     "evalue": "",
     "output_type": "error",
     "traceback": [
      "\u001b[0;31m---------------------------------------------------------------------------\u001b[0m",
      "\u001b[0;31mKeyboardInterrupt\u001b[0m                         Traceback (most recent call last)",
      "\u001b[0;32m<ipython-input-12-596a49cdc13c>\u001b[0m in \u001b[0;36m<module>\u001b[0;34m()\u001b[0m\n\u001b[0;32m----> 1\u001b[0;31m \u001b[0merrors_and_plots_100_percent\u001b[0m\u001b[0;34m(\u001b[0m\u001b[0;34m)\u001b[0m\u001b[0;34m\u001b[0m\u001b[0m\n\u001b[0m",
      "\u001b[0;32m<ipython-input-11-509a4a1cea2d>\u001b[0m in \u001b[0;36merrors_and_plots_100_percent\u001b[0;34m()\u001b[0m\n\u001b[1;32m      3\u001b[0m     \u001b[0;32mfor\u001b[0m \u001b[0mdataset_name\u001b[0m \u001b[0;32min\u001b[0m \u001b[0mdataset_list\u001b[0m\u001b[0;34m:\u001b[0m\u001b[0;34m\u001b[0m\u001b[0m\n\u001b[1;32m      4\u001b[0m         \u001b[0;32mfor\u001b[0m \u001b[0mmodel_name\u001b[0m \u001b[0;32min\u001b[0m \u001b[0mmodel_dict\u001b[0m\u001b[0;34m.\u001b[0m\u001b[0mkeys\u001b[0m\u001b[0;34m(\u001b[0m\u001b[0;34m)\u001b[0m\u001b[0;34m:\u001b[0m\u001b[0;34m\u001b[0m\u001b[0m\n\u001b[0;32m----> 5\u001b[0;31m             \u001b[0mplot_model\u001b[0m\u001b[0;34m(\u001b[0m\u001b[0mmodel_name\u001b[0m\u001b[0;34m,\u001b[0m \u001b[0mdataset_name\u001b[0m\u001b[0;34m)\u001b[0m\u001b[0;34m\u001b[0m\u001b[0m\n\u001b[0m\u001b[1;32m      6\u001b[0m \u001b[0;34m\u001b[0m\u001b[0m\n",
      "\u001b[0;32m<ipython-input-9-5eb3e8a252cf>\u001b[0m in \u001b[0;36mplot_model\u001b[0;34m(model_name, dataset_name)\u001b[0m\n\u001b[1;32m     13\u001b[0m \u001b[0;34m\u001b[0m\u001b[0m\n\u001b[1;32m     14\u001b[0m     \u001b[0;31m# now train the model and get the predictions\u001b[0m\u001b[0;34m\u001b[0m\u001b[0;34m\u001b[0m\u001b[0m\n\u001b[0;32m---> 15\u001b[0;31m     \u001b[0mmodel\u001b[0m \u001b[0;34m=\u001b[0m \u001b[0mmodel_dict\u001b[0m\u001b[0;34m[\u001b[0m\u001b[0mmodel_name\u001b[0m\u001b[0;34m]\u001b[0m\u001b[0;34m.\u001b[0m\u001b[0mfit\u001b[0m\u001b[0;34m(\u001b[0m\u001b[0mx_train\u001b[0m\u001b[0;34m,\u001b[0m \u001b[0my_train\u001b[0m\u001b[0;34m)\u001b[0m\u001b[0;34m\u001b[0m\u001b[0m\n\u001b[0m\u001b[1;32m     16\u001b[0m \u001b[0;34m\u001b[0m\u001b[0m\n\u001b[1;32m     17\u001b[0m     \u001b[0;31m# predict\u001b[0m\u001b[0;34m\u001b[0m\u001b[0;34m\u001b[0m\u001b[0m\n",
      "\u001b[0;32m~/anaconda3/lib/python3.6/site-packages/sklearn/svm/base.py\u001b[0m in \u001b[0;36mfit\u001b[0;34m(self, X, y, sample_weight)\u001b[0m\n\u001b[1;32m    185\u001b[0m \u001b[0;34m\u001b[0m\u001b[0m\n\u001b[1;32m    186\u001b[0m         \u001b[0mseed\u001b[0m \u001b[0;34m=\u001b[0m \u001b[0mrnd\u001b[0m\u001b[0;34m.\u001b[0m\u001b[0mrandint\u001b[0m\u001b[0;34m(\u001b[0m\u001b[0mnp\u001b[0m\u001b[0;34m.\u001b[0m\u001b[0miinfo\u001b[0m\u001b[0;34m(\u001b[0m\u001b[0;34m'i'\u001b[0m\u001b[0;34m)\u001b[0m\u001b[0;34m.\u001b[0m\u001b[0mmax\u001b[0m\u001b[0;34m)\u001b[0m\u001b[0;34m\u001b[0m\u001b[0m\n\u001b[0;32m--> 187\u001b[0;31m         \u001b[0mfit\u001b[0m\u001b[0;34m(\u001b[0m\u001b[0mX\u001b[0m\u001b[0;34m,\u001b[0m \u001b[0my\u001b[0m\u001b[0;34m,\u001b[0m \u001b[0msample_weight\u001b[0m\u001b[0;34m,\u001b[0m \u001b[0msolver_type\u001b[0m\u001b[0;34m,\u001b[0m \u001b[0mkernel\u001b[0m\u001b[0;34m,\u001b[0m \u001b[0mrandom_seed\u001b[0m\u001b[0;34m=\u001b[0m\u001b[0mseed\u001b[0m\u001b[0;34m)\u001b[0m\u001b[0;34m\u001b[0m\u001b[0m\n\u001b[0m\u001b[1;32m    188\u001b[0m         \u001b[0;31m# see comment on the other call to np.iinfo in this file\u001b[0m\u001b[0;34m\u001b[0m\u001b[0;34m\u001b[0m\u001b[0m\n\u001b[1;32m    189\u001b[0m \u001b[0;34m\u001b[0m\u001b[0m\n",
      "\u001b[0;32m~/anaconda3/lib/python3.6/site-packages/sklearn/svm/base.py\u001b[0m in \u001b[0;36m_dense_fit\u001b[0;34m(self, X, y, sample_weight, solver_type, kernel, random_seed)\u001b[0m\n\u001b[1;32m    252\u001b[0m                 \u001b[0mcache_size\u001b[0m\u001b[0;34m=\u001b[0m\u001b[0mself\u001b[0m\u001b[0;34m.\u001b[0m\u001b[0mcache_size\u001b[0m\u001b[0;34m,\u001b[0m \u001b[0mcoef0\u001b[0m\u001b[0;34m=\u001b[0m\u001b[0mself\u001b[0m\u001b[0;34m.\u001b[0m\u001b[0mcoef0\u001b[0m\u001b[0;34m,\u001b[0m\u001b[0;34m\u001b[0m\u001b[0m\n\u001b[1;32m    253\u001b[0m                 \u001b[0mgamma\u001b[0m\u001b[0;34m=\u001b[0m\u001b[0mself\u001b[0m\u001b[0;34m.\u001b[0m\u001b[0m_gamma\u001b[0m\u001b[0;34m,\u001b[0m \u001b[0mepsilon\u001b[0m\u001b[0;34m=\u001b[0m\u001b[0mself\u001b[0m\u001b[0;34m.\u001b[0m\u001b[0mepsilon\u001b[0m\u001b[0;34m,\u001b[0m\u001b[0;34m\u001b[0m\u001b[0m\n\u001b[0;32m--> 254\u001b[0;31m                 max_iter=self.max_iter, random_seed=random_seed)\n\u001b[0m\u001b[1;32m    255\u001b[0m \u001b[0;34m\u001b[0m\u001b[0m\n\u001b[1;32m    256\u001b[0m         \u001b[0mself\u001b[0m\u001b[0;34m.\u001b[0m\u001b[0m_warn_from_fit_status\u001b[0m\u001b[0;34m(\u001b[0m\u001b[0;34m)\u001b[0m\u001b[0;34m\u001b[0m\u001b[0m\n",
      "\u001b[0;31mKeyboardInterrupt\u001b[0m: "
     ]
    }
   ],
   "source": [
    "errors_and_plots_100_percent()"
   ]
  },
  {
   "cell_type": "code",
   "execution_count": null,
   "metadata": {
    "collapsed": true
   },
   "outputs": [],
   "source": []
  }
 ],
 "metadata": {
  "kernelspec": {
   "display_name": "Python 3",
   "language": "python",
   "name": "python3"
  },
  "language_info": {
   "codemirror_mode": {
    "name": "ipython",
    "version": 3
   },
   "file_extension": ".py",
   "mimetype": "text/x-python",
   "name": "python",
   "nbconvert_exporter": "python",
   "pygments_lexer": "ipython3",
   "version": "3.6.3"
  }
 },
 "nbformat": 4,
 "nbformat_minor": 2
}
